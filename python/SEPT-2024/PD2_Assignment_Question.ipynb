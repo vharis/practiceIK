{
  "cells": [
    {
      "cell_type": "markdown",
      "metadata": {
        "id": "view-in-github",
        "colab_type": "text"
      },
      "source": [
        "<a href=\"https://colab.research.google.com/github/vharis/practiceIK/blob/main/python/SEPT-2024/PD2_Assignment_Question.ipynb\" target=\"_parent\"><img src=\"https://colab.research.google.com/assets/colab-badge.svg\" alt=\"Open In Colab\"/></a>"
      ]
    },
    {
      "cell_type": "markdown",
      "metadata": {
        "id": "i-0ra5cnX6BI"
      },
      "source": [
        "### 1. Exploring the Impact of Sample Size on T-Distribution\n",
        "\n",
        "**Problem Statement:**\n",
        "Investigate the impact of sample size on the t-distribution through a Python program. Generate random samples of varying sizes from a standard normal distribution, compute t-statistics, and visually track the evolution of the t-distribution with increasing sample size. Provide an analysis report on the interpretation of the plots."
      ]
    },
    {
      "cell_type": "markdown",
      "metadata": {
        "id": "2pBdpTHjVkCV"
      },
      "source": [
        "*Hint: Try comparting T-distribution to standard normal Z distribution*"
      ]
    },
    {
      "cell_type": "code",
      "execution_count": null,
      "metadata": {
        "id": "iYGJ-5Idv4I_"
      },
      "outputs": [],
      "source": [
        "import numpy as np\n",
        "import matplotlib.pyplot as plt\n",
        "from scipy.stats import t, norm"
      ]
    },
    {
      "cell_type": "code",
      "execution_count": null,
      "metadata": {
        "scrolled": true,
        "id": "-22BHYvRVkCa"
      },
      "outputs": [],
      "source": [
        "import numpy as np\n",
        "import matplotlib.pyplot as plt\n",
        "from scipy.stats import t\n",
        "\n",
        "# Parameters\n",
        "sample_sizes = [5, 7, 10, 15, 30]  # List of sample sizes to investigate\n",
        "num_samples = 10000  # Number of random samples generated for each sample size\n",
        "\n",
        "# Generate random samples and compute t-statistics\n",
        "t_distributions = []\n",
        "for size in sample_sizes:\n",
        "    # Generate random samples from a standard normal distribution\n",
        "    samples = np.random.standard_normal((num_samples, size))\n",
        "\n",
        "    # Compute t-statistics for each sample\n",
        "    # Formula: sqrt(sample n) * (sample mean - population mean) / (sample standard deviation / sqrt(n))\n",
        "    # You can assume population mean as 0 for this experiment\n",
        "    # np.std calculates standard deviation, np.sqrt calculates square root\n",
        "    t_stats = np.sqrt(size) * (np.mean(samples, axis=1) - 0) / (np.std(samples, axis=1, ddof=1)) # ddof review\n",
        "\n",
        "    # Append t-statistics to the list\n",
        "    t_distributions.append(t_stats)\n",
        "\n",
        "# Plot the t-distributions for each sample size\n",
        "plt.figure(figsize=(12, 8))\n",
        "for i, size in enumerate(sample_sizes):\n",
        "    # use plt.subplot to print the subplot\n",
        "    plt.subplot(2, 3, i+1)\n",
        "\n",
        "    # Plot histogram of t-statistics with 50 bins using plt.hist. Use alpha 0.7\n",
        "    plt.hist(t_distributions[i], bins=50, density=True, alpha=0.7, color='blue')\n",
        "\n",
        "    # Set title and labels\n",
        "    plt.title(f'T-Distribution (n={size})')\n",
        "    plt.xlabel('t-statistic')\n",
        "    plt.ylabel('Density')\n",
        "\n",
        "    plt.grid(True)  # Add grid lines to the plot\n",
        "\n",
        "plt.tight_layout()  # Adjust layout to prevent overlap of subplots\n",
        "plt.show()  # Display the plot\n"
      ]
    },
    {
      "cell_type": "markdown",
      "metadata": {
        "id": "gdchj66aVkCd"
      },
      "source": [
        "### Plotting Z-distribution"
      ]
    },
    {
      "cell_type": "code",
      "execution_count": null,
      "metadata": {
        "id": "D60jlfKcVkCe"
      },
      "outputs": [],
      "source": [
        "import numpy as np\n",
        "import matplotlib.pyplot as plt\n",
        "from scipy.stats import norm\n",
        "\n",
        "# Generate data points for the x-axis (range of values)\n",
        "# Use np.linspace for this for x from -4 to 4. Plot 1000 values.\n",
        "x = '''INSERT CODE HERE'''\n",
        "\n",
        "# Compute the probability density function (PDF) for the standard normal distribution\n",
        "# Use norm.pdf on x to compute the PDF\n",
        "y = '''INSERT CODE HERE'''  # use parameters loc=0 (mean), scale=1 (standard deviation)\n",
        "\n",
        "# Plot the standard normal distribution\n",
        "plt.figure(figsize=(8, 6))\n",
        "plt.plot(x, y, color='blue', label='Standard Normal Distribution')\n",
        "\n",
        "# Add labels and title\n",
        "plt.title('Standard Normal Distribution (Z-Distribution)')\n",
        "plt.xlabel('Value')\n",
        "plt.ylabel('Probability Density')\n",
        "plt.grid(True)\n",
        "plt.legend()\n",
        "\n",
        "# Show plot\n",
        "plt.show()"
      ]
    },
    {
      "cell_type": "code",
      "source": [
        "'''\n",
        "INSERT YOUR INFERENCE HERE\n",
        "'''"
      ],
      "metadata": {
        "id": "XsVMZsThE8tx"
      },
      "execution_count": null,
      "outputs": []
    },
    {
      "cell_type": "markdown",
      "metadata": {
        "id": "7vAVsVhYtqdw"
      },
      "source": [
        "### 2. Simulating Dynamic Conversion Rates\n",
        "**Problem Statement:** Simulate a dynamic Beta distribution representing the evolving conversion rate of a website based on user interactions. Visualize the changing distribution over multiple time steps. Provide a detailed analysis report interpreting the plots and insights gained from the dynamic Beta simulation."
      ]
    },
    {
      "cell_type": "markdown",
      "metadata": {
        "id": "yL_DlL26VkCi"
      },
      "source": [
        "To simulate a dynamic Beta distribution representing the evolving conversion rate of a website based on user interactions, we can follow these steps:\n",
        "\n",
        "Initialize parameters:  \n",
        "Define the initial shape parameters (alpha and beta) of the Beta distribution.  \n",
        "Choose the number of time steps to simulate.  \n",
        "\n",
        "Simulate the evolution of the Beta distribution:  \n",
        "At each time step, update the shape parameters based on new user interactions or data.  \n",
        "This update could be based on observed outcomes, such as the number of conversions and non-conversions over time.  \n",
        "\n",
        "Visualize the changing distribution:  \n",
        "Plot the Beta distribution at each time step to visualize how it evolves over time.  \n",
        "Analyze the trends and patterns observed in the dynamic Beta distribution.  "
      ]
    },
    {
      "cell_type": "code",
      "execution_count": null,
      "metadata": {
        "id": "8ZXzkDo-8F3P"
      },
      "outputs": [],
      "source": [
        "import numpy as np\n",
        "import matplotlib.pyplot as plt\n",
        "from scipy.stats import beta\n",
        "\n",
        "# Parameters\n",
        "initial_alpha = 2  # Initial shape parameter (alpha) of the Beta distribution\n",
        "initial_beta = 5   # Initial shape parameter (beta) of the Beta distribution\n",
        "num_time_steps = 10  # Number of time steps to simulate\n",
        "\n",
        "# Initialize arrays to store shape parameters and distributions\n",
        "alphas = [initial_alpha]\n",
        "betas = [initial_beta]\n",
        "beta_distributions = [beta(initial_alpha, initial_beta)]\n",
        "\n",
        "# Simulate the evolution of the Beta distribution over multiple time steps\n",
        "for t in range(1, num_time_steps):\n",
        "    # Example: Update shape parameters based on observed conversions and non-conversions\n",
        "    observed_conversions = np.random.randint(10, 100)  # Simulated number of conversions\n",
        "    observed_non_conversions = np.random.randint(10, 100)  # Simulated number of non-conversions\n",
        "\n",
        "    # Update shape parameters using observed data (e.g., using Bayesian updating)\n",
        "    updated_alpha = '''INSERT CODE HERE''' #UPDATE ALPHA BY ADDING INITIAL ALPHA TO OBSERVED CONVERSIONS\n",
        "    updated_beta = '''INSERT CODE HERE''' #UPDATE BETA BY ADDING INITIAL BETA TO OBSERVED NON-CONVERSIONS\n",
        "\n",
        "    # Store updated shape parameters\n",
        "    alphas.append(updated_alpha)\n",
        "    betas.append(updated_beta)\n",
        "\n",
        "    # Generate the Beta distribution with updated shape parameters\n",
        "    beta_distribution = '''INSERT CODE HERE''' # Use updated alpha and updated beta to generate beta distribution using the beta function\n",
        "    beta_distributions.append(beta_distribution)\n",
        "\n",
        "# Visualize the changing Beta distribution over time\n",
        "plt.figure(figsize=(12, 8))\n",
        "for t in range(num_time_steps):\n",
        "    plt.plot(np.linspace(0, 1, 100), beta_distributions[t].pdf(np.linspace(0, 1, 100)), label=f'Time Step {t+1}')\n",
        "\n",
        "plt.title('Dynamic Beta Distribution')\n",
        "plt.xlabel('Conversion Rate')\n",
        "plt.ylabel('Probability Density')\n",
        "plt.legend()\n",
        "plt.grid(True)\n",
        "plt.show()"
      ]
    },
    {
      "cell_type": "markdown",
      "metadata": {
        "id": "02Ts_YafVkCk"
      },
      "source": [
        "In this code:\n",
        "\n",
        "We initialize parameters such as the initial shape parameters (initial_alpha and initial_beta) of the Beta distribution and the number of time steps to simulate (num_time_steps).  \n",
        "We simulate the evolution of the Beta distribution over multiple time steps. At each time step, we update the shape parameters based on simulated observations (e.g., conversions and non-conversions).  \n",
        "We visualize the changing Beta distribution at each time step by plotting the probability density function (PDF) of the Beta distribution using Matplotlib.  "
      ]
    },
    {
      "cell_type": "markdown",
      "source": [
        "## 3. ADVANCED: Insights from Dynamic beta simulation"
      ],
      "metadata": {
        "id": "Y3_zPdtIF2xG"
      }
    },
    {
      "cell_type": "code",
      "source": [
        "'''\n",
        "What are the insights that can be gained from the dynamic Beta simulation and visualization? Write them here.\n",
        "'''"
      ],
      "metadata": {
        "id": "Sf6Gizq-FjMM"
      },
      "execution_count": null,
      "outputs": []
    }
  ],
  "metadata": {
    "colab": {
      "provenance": [],
      "include_colab_link": true
    },
    "kernelspec": {
      "display_name": "Python 3 (ipykernel)",
      "language": "python",
      "name": "python3"
    },
    "language_info": {
      "codemirror_mode": {
        "name": "ipython",
        "version": 3
      },
      "file_extension": ".py",
      "mimetype": "text/x-python",
      "name": "python",
      "nbconvert_exporter": "python",
      "pygments_lexer": "ipython3",
      "version": "3.8.9"
    }
  },
  "nbformat": 4,
  "nbformat_minor": 0
}